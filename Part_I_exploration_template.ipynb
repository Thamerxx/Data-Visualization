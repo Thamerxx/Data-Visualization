{
 "cells": [
  {
   "cell_type": "markdown",
   "metadata": {},
   "source": [
    "# Part I - (Dataset Exploration Title)\n",
    "## by (your name here)\n",
    "\n",
    "## Introduction\n",
    "> Introduce the dataset\n",
    "\n",
    ">**Rubric Tip**: Your code should not generate any errors, and should use functions, loops where possible to reduce repetitive code. Prefer to use functions to reuse code statements.\n",
    "\n",
    "> **Rubric Tip**: Document your approach and findings in markdown cells. Use comments and docstrings in code cells to document the code functionality.\n",
    "\n",
    ">**Rubric Tip**: Markup cells should have headers and text that organize your thoughts, findings, and what you plan on investigating next.  \n",
    "\n",
    "\n",
    "\n",
    "## Preliminary Wrangling\n"
   ]
  },
  {
   "cell_type": "code",
   "execution_count": 20,
   "metadata": {},
   "outputs": [],
   "source": [
    "# import all packages and set plots to be embedded inline\n",
    "import numpy as np\n",
    "import pandas as pd\n",
    "import matplotlib.pyplot as plt\n",
    "import seaborn as sns\n",
    "\n",
    "%matplotlib inline"
   ]
  },
  {
   "cell_type": "markdown",
   "metadata": {},
   "source": [
    "> Load in your dataset and describe its properties through the questions below. Try and motivate your exploration goals through this section.\n"
   ]
  },
  {
   "cell_type": "code",
   "execution_count": 21,
   "metadata": {},
   "outputs": [],
   "source": [
    "# loading the dataset \n",
    "fordbike = pd.read_csv('201902-fordgobike-tripdata.csv')"
   ]
  },
  {
   "cell_type": "code",
   "execution_count": 22,
   "metadata": {},
   "outputs": [],
   "source": [
    "# defining a function to explore and summarize datasets\n",
    "\n",
    "def summary(df: pd.DataFrame) -> pd.DataFrame:\n",
    "    \"\"\"\n",
    "    Returns the data type, # of null rows and unique rows of a given dataframe\n",
    "    \n",
    "    Args: \n",
    "        A dataframe of n_rows and n_columns\n",
    "    Returns:\n",
    "        A dataframe of 4 columns [data_type, non-null-rows, unique_rows, missing_rows]\n",
    "    \"\"\"\n",
    "    concat = pd.concat(\n",
    "        [df.dtypes.to_frame(), df.count().to_frame(), df.nunique(), df.isnull().sum()], axis=1\n",
    "    )\n",
    "    concat.columns = ['data_type', 'non-null-rows', 'unique_rows', 'missing_rows']\n",
    "    return concat"
   ]
  },
  {
   "cell_type": "code",
   "execution_count": 23,
   "metadata": {},
   "outputs": [
    {
     "data": {
      "text/html": [
       "<div>\n",
       "<style scoped>\n",
       "    .dataframe tbody tr th:only-of-type {\n",
       "        vertical-align: middle;\n",
       "    }\n",
       "\n",
       "    .dataframe tbody tr th {\n",
       "        vertical-align: top;\n",
       "    }\n",
       "\n",
       "    .dataframe thead th {\n",
       "        text-align: right;\n",
       "    }\n",
       "</style>\n",
       "<table border=\"1\" class=\"dataframe\">\n",
       "  <thead>\n",
       "    <tr style=\"text-align: right;\">\n",
       "      <th></th>\n",
       "      <th>data_type</th>\n",
       "      <th>non-null-rows</th>\n",
       "      <th>unique_rows</th>\n",
       "      <th>missing_rows</th>\n",
       "    </tr>\n",
       "  </thead>\n",
       "  <tbody>\n",
       "    <tr>\n",
       "      <th>duration_sec</th>\n",
       "      <td>int64</td>\n",
       "      <td>183412</td>\n",
       "      <td>4752</td>\n",
       "      <td>0</td>\n",
       "    </tr>\n",
       "    <tr>\n",
       "      <th>start_time</th>\n",
       "      <td>object</td>\n",
       "      <td>183412</td>\n",
       "      <td>183401</td>\n",
       "      <td>0</td>\n",
       "    </tr>\n",
       "    <tr>\n",
       "      <th>end_time</th>\n",
       "      <td>object</td>\n",
       "      <td>183412</td>\n",
       "      <td>183397</td>\n",
       "      <td>0</td>\n",
       "    </tr>\n",
       "    <tr>\n",
       "      <th>start_station_id</th>\n",
       "      <td>float64</td>\n",
       "      <td>183215</td>\n",
       "      <td>329</td>\n",
       "      <td>197</td>\n",
       "    </tr>\n",
       "    <tr>\n",
       "      <th>start_station_name</th>\n",
       "      <td>object</td>\n",
       "      <td>183215</td>\n",
       "      <td>329</td>\n",
       "      <td>197</td>\n",
       "    </tr>\n",
       "    <tr>\n",
       "      <th>start_station_latitude</th>\n",
       "      <td>float64</td>\n",
       "      <td>183412</td>\n",
       "      <td>334</td>\n",
       "      <td>0</td>\n",
       "    </tr>\n",
       "    <tr>\n",
       "      <th>start_station_longitude</th>\n",
       "      <td>float64</td>\n",
       "      <td>183412</td>\n",
       "      <td>335</td>\n",
       "      <td>0</td>\n",
       "    </tr>\n",
       "    <tr>\n",
       "      <th>end_station_id</th>\n",
       "      <td>float64</td>\n",
       "      <td>183215</td>\n",
       "      <td>329</td>\n",
       "      <td>197</td>\n",
       "    </tr>\n",
       "    <tr>\n",
       "      <th>end_station_name</th>\n",
       "      <td>object</td>\n",
       "      <td>183215</td>\n",
       "      <td>329</td>\n",
       "      <td>197</td>\n",
       "    </tr>\n",
       "    <tr>\n",
       "      <th>end_station_latitude</th>\n",
       "      <td>float64</td>\n",
       "      <td>183412</td>\n",
       "      <td>335</td>\n",
       "      <td>0</td>\n",
       "    </tr>\n",
       "    <tr>\n",
       "      <th>end_station_longitude</th>\n",
       "      <td>float64</td>\n",
       "      <td>183412</td>\n",
       "      <td>335</td>\n",
       "      <td>0</td>\n",
       "    </tr>\n",
       "    <tr>\n",
       "      <th>bike_id</th>\n",
       "      <td>int64</td>\n",
       "      <td>183412</td>\n",
       "      <td>4646</td>\n",
       "      <td>0</td>\n",
       "    </tr>\n",
       "    <tr>\n",
       "      <th>user_type</th>\n",
       "      <td>object</td>\n",
       "      <td>183412</td>\n",
       "      <td>2</td>\n",
       "      <td>0</td>\n",
       "    </tr>\n",
       "    <tr>\n",
       "      <th>member_birth_year</th>\n",
       "      <td>float64</td>\n",
       "      <td>175147</td>\n",
       "      <td>75</td>\n",
       "      <td>8265</td>\n",
       "    </tr>\n",
       "    <tr>\n",
       "      <th>member_gender</th>\n",
       "      <td>object</td>\n",
       "      <td>175147</td>\n",
       "      <td>3</td>\n",
       "      <td>8265</td>\n",
       "    </tr>\n",
       "    <tr>\n",
       "      <th>bike_share_for_all_trip</th>\n",
       "      <td>object</td>\n",
       "      <td>183412</td>\n",
       "      <td>2</td>\n",
       "      <td>0</td>\n",
       "    </tr>\n",
       "  </tbody>\n",
       "</table>\n",
       "</div>"
      ],
      "text/plain": [
       "                        data_type  non-null-rows  unique_rows  missing_rows\n",
       "duration_sec                int64         183412         4752             0\n",
       "start_time                 object         183412       183401             0\n",
       "end_time                   object         183412       183397             0\n",
       "start_station_id          float64         183215          329           197\n",
       "start_station_name         object         183215          329           197\n",
       "start_station_latitude    float64         183412          334             0\n",
       "start_station_longitude   float64         183412          335             0\n",
       "end_station_id            float64         183215          329           197\n",
       "end_station_name           object         183215          329           197\n",
       "end_station_latitude      float64         183412          335             0\n",
       "end_station_longitude     float64         183412          335             0\n",
       "bike_id                     int64         183412         4646             0\n",
       "user_type                  object         183412            2             0\n",
       "member_birth_year         float64         175147           75          8265\n",
       "member_gender              object         175147            3          8265\n",
       "bike_share_for_all_trip    object         183412            2             0"
      ]
     },
     "execution_count": 23,
     "metadata": {},
     "output_type": "execute_result"
    }
   ],
   "source": [
    "# creating a new copy so we can revert to original data if needed after all the cleaning\n",
    "bike_df = fordbike.copy()\n",
    "\n",
    "# summarizing the dataset\n",
    "summary(bike_df)"
   ]
  },
  {
   "cell_type": "markdown",
   "metadata": {},
   "source": [
    "## Cleaning and transforming the Dataset"
   ]
  },
  {
   "cell_type": "markdown",
   "metadata": {},
   "source": [
    "We are going to perform the following data cleaning/preparations on the dataset:\n",
    "<br><br>\n",
    "1- Choosing the appropriate/correct datatypes.<br>\n",
    "2- adding a column called \"age\" to show the users' ages.<br>\n",
    "3- modifying some columns' date/time formats for readability and analysis"
   ]
  },
  {
   "cell_type": "markdown",
   "metadata": {},
   "source": [
    "**Casting into appropriate datatypes**"
   ]
  },
  {
   "cell_type": "code",
   "execution_count": 24,
   "metadata": {},
   "outputs": [],
   "source": [
    "# casting the following variables into their correct/appropriate datatypes\n",
    "bike_df = (\n",
    "    bike_df\n",
    "    .astype({'start_time': 'datetime64[ns]',\n",
    "             'end_time': 'datetime64[ns]',\n",
    "             'start_station_id': 'str',\n",
    "             'end_station_id': 'str',\n",
    "             'bike_id': 'str',\n",
    "             'member_gender': 'category',\n",
    "             'user_type': 'category'})\n",
    ")"
   ]
  },
  {
   "cell_type": "markdown",
   "metadata": {},
   "source": [
    "**Creating new columns based on the start_time**"
   ]
  },
  {
   "cell_type": "code",
   "execution_count": 25,
   "metadata": {},
   "outputs": [
    {
     "data": {
      "text/html": [
       "<div>\n",
       "<style scoped>\n",
       "    .dataframe tbody tr th:only-of-type {\n",
       "        vertical-align: middle;\n",
       "    }\n",
       "\n",
       "    .dataframe tbody tr th {\n",
       "        vertical-align: top;\n",
       "    }\n",
       "\n",
       "    .dataframe thead th {\n",
       "        text-align: right;\n",
       "    }\n",
       "</style>\n",
       "<table border=\"1\" class=\"dataframe\">\n",
       "  <thead>\n",
       "    <tr style=\"text-align: right;\">\n",
       "      <th></th>\n",
       "      <th>data_type</th>\n",
       "      <th>non-null-rows</th>\n",
       "      <th>unique_rows</th>\n",
       "      <th>missing_rows</th>\n",
       "    </tr>\n",
       "  </thead>\n",
       "  <tbody>\n",
       "    <tr>\n",
       "      <th>duration_sec</th>\n",
       "      <td>int64</td>\n",
       "      <td>183412</td>\n",
       "      <td>4752</td>\n",
       "      <td>0</td>\n",
       "    </tr>\n",
       "    <tr>\n",
       "      <th>start_time</th>\n",
       "      <td>datetime64[ns]</td>\n",
       "      <td>183412</td>\n",
       "      <td>183401</td>\n",
       "      <td>0</td>\n",
       "    </tr>\n",
       "    <tr>\n",
       "      <th>end_time</th>\n",
       "      <td>datetime64[ns]</td>\n",
       "      <td>183412</td>\n",
       "      <td>183397</td>\n",
       "      <td>0</td>\n",
       "    </tr>\n",
       "    <tr>\n",
       "      <th>start_station_id</th>\n",
       "      <td>object</td>\n",
       "      <td>183412</td>\n",
       "      <td>330</td>\n",
       "      <td>0</td>\n",
       "    </tr>\n",
       "    <tr>\n",
       "      <th>start_station_name</th>\n",
       "      <td>object</td>\n",
       "      <td>183215</td>\n",
       "      <td>329</td>\n",
       "      <td>197</td>\n",
       "    </tr>\n",
       "    <tr>\n",
       "      <th>start_station_latitude</th>\n",
       "      <td>float64</td>\n",
       "      <td>183412</td>\n",
       "      <td>334</td>\n",
       "      <td>0</td>\n",
       "    </tr>\n",
       "    <tr>\n",
       "      <th>start_station_longitude</th>\n",
       "      <td>float64</td>\n",
       "      <td>183412</td>\n",
       "      <td>335</td>\n",
       "      <td>0</td>\n",
       "    </tr>\n",
       "    <tr>\n",
       "      <th>end_station_id</th>\n",
       "      <td>object</td>\n",
       "      <td>183412</td>\n",
       "      <td>330</td>\n",
       "      <td>0</td>\n",
       "    </tr>\n",
       "    <tr>\n",
       "      <th>end_station_name</th>\n",
       "      <td>object</td>\n",
       "      <td>183215</td>\n",
       "      <td>329</td>\n",
       "      <td>197</td>\n",
       "    </tr>\n",
       "    <tr>\n",
       "      <th>end_station_latitude</th>\n",
       "      <td>float64</td>\n",
       "      <td>183412</td>\n",
       "      <td>335</td>\n",
       "      <td>0</td>\n",
       "    </tr>\n",
       "    <tr>\n",
       "      <th>end_station_longitude</th>\n",
       "      <td>float64</td>\n",
       "      <td>183412</td>\n",
       "      <td>335</td>\n",
       "      <td>0</td>\n",
       "    </tr>\n",
       "    <tr>\n",
       "      <th>bike_id</th>\n",
       "      <td>object</td>\n",
       "      <td>183412</td>\n",
       "      <td>4646</td>\n",
       "      <td>0</td>\n",
       "    </tr>\n",
       "    <tr>\n",
       "      <th>user_type</th>\n",
       "      <td>category</td>\n",
       "      <td>183412</td>\n",
       "      <td>2</td>\n",
       "      <td>0</td>\n",
       "    </tr>\n",
       "    <tr>\n",
       "      <th>member_birth_year</th>\n",
       "      <td>float64</td>\n",
       "      <td>175147</td>\n",
       "      <td>75</td>\n",
       "      <td>8265</td>\n",
       "    </tr>\n",
       "    <tr>\n",
       "      <th>member_gender</th>\n",
       "      <td>category</td>\n",
       "      <td>175147</td>\n",
       "      <td>3</td>\n",
       "      <td>8265</td>\n",
       "    </tr>\n",
       "    <tr>\n",
       "      <th>bike_share_for_all_trip</th>\n",
       "      <td>object</td>\n",
       "      <td>183412</td>\n",
       "      <td>2</td>\n",
       "      <td>0</td>\n",
       "    </tr>\n",
       "    <tr>\n",
       "      <th>age</th>\n",
       "      <td>float64</td>\n",
       "      <td>175147</td>\n",
       "      <td>75</td>\n",
       "      <td>8265</td>\n",
       "    </tr>\n",
       "    <tr>\n",
       "      <th>start_date</th>\n",
       "      <td>object</td>\n",
       "      <td>183412</td>\n",
       "      <td>28</td>\n",
       "      <td>0</td>\n",
       "    </tr>\n",
       "    <tr>\n",
       "      <th>start_hour</th>\n",
       "      <td>object</td>\n",
       "      <td>183412</td>\n",
       "      <td>24</td>\n",
       "      <td>0</td>\n",
       "    </tr>\n",
       "    <tr>\n",
       "      <th>start_day</th>\n",
       "      <td>object</td>\n",
       "      <td>183412</td>\n",
       "      <td>7</td>\n",
       "      <td>0</td>\n",
       "    </tr>\n",
       "    <tr>\n",
       "      <th>start_month</th>\n",
       "      <td>object</td>\n",
       "      <td>183412</td>\n",
       "      <td>1</td>\n",
       "      <td>0</td>\n",
       "    </tr>\n",
       "  </tbody>\n",
       "</table>\n",
       "</div>"
      ],
      "text/plain": [
       "                              data_type  non-null-rows  unique_rows  \\\n",
       "duration_sec                      int64         183412         4752   \n",
       "start_time               datetime64[ns]         183412       183401   \n",
       "end_time                 datetime64[ns]         183412       183397   \n",
       "start_station_id                 object         183412          330   \n",
       "start_station_name               object         183215          329   \n",
       "start_station_latitude          float64         183412          334   \n",
       "start_station_longitude         float64         183412          335   \n",
       "end_station_id                   object         183412          330   \n",
       "end_station_name                 object         183215          329   \n",
       "end_station_latitude            float64         183412          335   \n",
       "end_station_longitude           float64         183412          335   \n",
       "bike_id                          object         183412         4646   \n",
       "user_type                      category         183412            2   \n",
       "member_birth_year               float64         175147           75   \n",
       "member_gender                  category         175147            3   \n",
       "bike_share_for_all_trip          object         183412            2   \n",
       "age                             float64         175147           75   \n",
       "start_date                       object         183412           28   \n",
       "start_hour                       object         183412           24   \n",
       "start_day                        object         183412            7   \n",
       "start_month                      object         183412            1   \n",
       "\n",
       "                         missing_rows  \n",
       "duration_sec                        0  \n",
       "start_time                          0  \n",
       "end_time                            0  \n",
       "start_station_id                    0  \n",
       "start_station_name                197  \n",
       "start_station_latitude              0  \n",
       "start_station_longitude             0  \n",
       "end_station_id                      0  \n",
       "end_station_name                  197  \n",
       "end_station_latitude                0  \n",
       "end_station_longitude               0  \n",
       "bike_id                             0  \n",
       "user_type                           0  \n",
       "member_birth_year                8265  \n",
       "member_gender                    8265  \n",
       "bike_share_for_all_trip             0  \n",
       "age                              8265  \n",
       "start_date                          0  \n",
       "start_hour                          0  \n",
       "start_day                           0  \n",
       "start_month                         0  "
      ]
     },
     "execution_count": 25,
     "metadata": {},
     "output_type": "execute_result"
    }
   ],
   "source": [
    "# adding age of riders 'age' column into dataset\n",
    "# adding new columns - 'date, hour, day and month' for datetime formats\n",
    "bike_df = (\n",
    "    bike_df\n",
    "    .assign(age=lambda a: 2022-a.member_birth_year,\n",
    "            start_date=lambda sd: sd.start_time.dt.strftime('%Y-%m-%d'),\n",
    "            start_hour=lambda x: x.start_time.dt.strftime('%H'),\n",
    "            start_day=lambda x: x.start_time.dt.strftime('%A'),\n",
    "            start_month=lambda x: x.start_time.dt.strftime('%B'))\n",
    ")\n",
    "\n",
    "summary(bike_df)"
   ]
  },
  {
   "cell_type": "code",
   "execution_count": 26,
   "metadata": {},
   "outputs": [
    {
     "data": {
      "text/html": [
       "<div>\n",
       "<style scoped>\n",
       "    .dataframe tbody tr th:only-of-type {\n",
       "        vertical-align: middle;\n",
       "    }\n",
       "\n",
       "    .dataframe tbody tr th {\n",
       "        vertical-align: top;\n",
       "    }\n",
       "\n",
       "    .dataframe thead th {\n",
       "        text-align: right;\n",
       "    }\n",
       "</style>\n",
       "<table border=\"1\" class=\"dataframe\">\n",
       "  <thead>\n",
       "    <tr style=\"text-align: right;\">\n",
       "      <th></th>\n",
       "      <th>duration_sec</th>\n",
       "      <th>start_time</th>\n",
       "      <th>end_time</th>\n",
       "      <th>start_station_id</th>\n",
       "      <th>start_station_name</th>\n",
       "      <th>start_station_latitude</th>\n",
       "      <th>start_station_longitude</th>\n",
       "      <th>end_station_id</th>\n",
       "      <th>end_station_name</th>\n",
       "      <th>end_station_latitude</th>\n",
       "      <th>...</th>\n",
       "      <th>bike_id</th>\n",
       "      <th>user_type</th>\n",
       "      <th>member_birth_year</th>\n",
       "      <th>member_gender</th>\n",
       "      <th>bike_share_for_all_trip</th>\n",
       "      <th>age</th>\n",
       "      <th>start_date</th>\n",
       "      <th>start_hour</th>\n",
       "      <th>start_day</th>\n",
       "      <th>start_month</th>\n",
       "    </tr>\n",
       "  </thead>\n",
       "  <tbody>\n",
       "    <tr>\n",
       "      <th>78222</th>\n",
       "      <td>458</td>\n",
       "      <td>2019-02-18 20:23:03.098</td>\n",
       "      <td>2019-02-18 20:30:41.646</td>\n",
       "      <td>114.0</td>\n",
       "      <td>Rhode Island St at 17th St</td>\n",
       "      <td>37.764478</td>\n",
       "      <td>-122.402570</td>\n",
       "      <td>125.0</td>\n",
       "      <td>20th St at Bryant St</td>\n",
       "      <td>37.759200</td>\n",
       "      <td>...</td>\n",
       "      <td>6537</td>\n",
       "      <td>Customer</td>\n",
       "      <td>NaN</td>\n",
       "      <td>NaN</td>\n",
       "      <td>No</td>\n",
       "      <td>NaN</td>\n",
       "      <td>2019-02-18</td>\n",
       "      <td>20</td>\n",
       "      <td>Monday</td>\n",
       "      <td>February</td>\n",
       "    </tr>\n",
       "    <tr>\n",
       "      <th>33079</th>\n",
       "      <td>1015</td>\n",
       "      <td>2019-02-24 12:44:01.810</td>\n",
       "      <td>2019-02-24 13:00:56.999</td>\n",
       "      <td>73.0</td>\n",
       "      <td>Pierce St at Haight St</td>\n",
       "      <td>37.771793</td>\n",
       "      <td>-122.433708</td>\n",
       "      <td>141.0</td>\n",
       "      <td>Valencia St at Cesar Chavez St</td>\n",
       "      <td>37.747998</td>\n",
       "      <td>...</td>\n",
       "      <td>5145</td>\n",
       "      <td>Subscriber</td>\n",
       "      <td>NaN</td>\n",
       "      <td>NaN</td>\n",
       "      <td>No</td>\n",
       "      <td>NaN</td>\n",
       "      <td>2019-02-24</td>\n",
       "      <td>12</td>\n",
       "      <td>Sunday</td>\n",
       "      <td>February</td>\n",
       "    </tr>\n",
       "    <tr>\n",
       "      <th>32733</th>\n",
       "      <td>2242</td>\n",
       "      <td>2019-02-24 13:12:16.122</td>\n",
       "      <td>2019-02-24 13:49:38.395</td>\n",
       "      <td>43.0</td>\n",
       "      <td>San Francisco Public Library (Grove St at Hyde...</td>\n",
       "      <td>37.778768</td>\n",
       "      <td>-122.415929</td>\n",
       "      <td>371.0</td>\n",
       "      <td>Lombard St at Columbus Ave</td>\n",
       "      <td>37.802746</td>\n",
       "      <td>...</td>\n",
       "      <td>567</td>\n",
       "      <td>Customer</td>\n",
       "      <td>NaN</td>\n",
       "      <td>NaN</td>\n",
       "      <td>No</td>\n",
       "      <td>NaN</td>\n",
       "      <td>2019-02-24</td>\n",
       "      <td>13</td>\n",
       "      <td>Sunday</td>\n",
       "      <td>February</td>\n",
       "    </tr>\n",
       "    <tr>\n",
       "      <th>72391</th>\n",
       "      <td>541</td>\n",
       "      <td>2019-02-19 16:28:32.483</td>\n",
       "      <td>2019-02-19 16:37:34.367</td>\n",
       "      <td>21.0</td>\n",
       "      <td>Montgomery St BART Station (Market St at 2nd St)</td>\n",
       "      <td>37.789625</td>\n",
       "      <td>-122.400811</td>\n",
       "      <td>58.0</td>\n",
       "      <td>Market St at 10th St</td>\n",
       "      <td>37.776619</td>\n",
       "      <td>...</td>\n",
       "      <td>4975</td>\n",
       "      <td>Subscriber</td>\n",
       "      <td>NaN</td>\n",
       "      <td>NaN</td>\n",
       "      <td>No</td>\n",
       "      <td>NaN</td>\n",
       "      <td>2019-02-19</td>\n",
       "      <td>16</td>\n",
       "      <td>Tuesday</td>\n",
       "      <td>February</td>\n",
       "    </tr>\n",
       "    <tr>\n",
       "      <th>4091</th>\n",
       "      <td>706</td>\n",
       "      <td>2019-02-28 16:24:11.601</td>\n",
       "      <td>2019-02-28 16:35:57.787</td>\n",
       "      <td>244.0</td>\n",
       "      <td>Shattuck Ave at Hearst Ave</td>\n",
       "      <td>37.873676</td>\n",
       "      <td>-122.268487</td>\n",
       "      <td>267.0</td>\n",
       "      <td>Derby St at College Ave</td>\n",
       "      <td>37.861804</td>\n",
       "      <td>...</td>\n",
       "      <td>4700</td>\n",
       "      <td>Customer</td>\n",
       "      <td>NaN</td>\n",
       "      <td>NaN</td>\n",
       "      <td>No</td>\n",
       "      <td>NaN</td>\n",
       "      <td>2019-02-28</td>\n",
       "      <td>16</td>\n",
       "      <td>Thursday</td>\n",
       "      <td>February</td>\n",
       "    </tr>\n",
       "  </tbody>\n",
       "</table>\n",
       "<p>5 rows × 21 columns</p>\n",
       "</div>"
      ],
      "text/plain": [
       "       duration_sec              start_time                end_time  \\\n",
       "78222           458 2019-02-18 20:23:03.098 2019-02-18 20:30:41.646   \n",
       "33079          1015 2019-02-24 12:44:01.810 2019-02-24 13:00:56.999   \n",
       "32733          2242 2019-02-24 13:12:16.122 2019-02-24 13:49:38.395   \n",
       "72391           541 2019-02-19 16:28:32.483 2019-02-19 16:37:34.367   \n",
       "4091            706 2019-02-28 16:24:11.601 2019-02-28 16:35:57.787   \n",
       "\n",
       "      start_station_id                                 start_station_name  \\\n",
       "78222            114.0                         Rhode Island St at 17th St   \n",
       "33079             73.0                             Pierce St at Haight St   \n",
       "32733             43.0  San Francisco Public Library (Grove St at Hyde...   \n",
       "72391             21.0   Montgomery St BART Station (Market St at 2nd St)   \n",
       "4091             244.0                         Shattuck Ave at Hearst Ave   \n",
       "\n",
       "       start_station_latitude  start_station_longitude end_station_id  \\\n",
       "78222               37.764478              -122.402570          125.0   \n",
       "33079               37.771793              -122.433708          141.0   \n",
       "32733               37.778768              -122.415929          371.0   \n",
       "72391               37.789625              -122.400811           58.0   \n",
       "4091                37.873676              -122.268487          267.0   \n",
       "\n",
       "                     end_station_name  end_station_latitude     ...      \\\n",
       "78222            20th St at Bryant St             37.759200     ...       \n",
       "33079  Valencia St at Cesar Chavez St             37.747998     ...       \n",
       "32733      Lombard St at Columbus Ave             37.802746     ...       \n",
       "72391            Market St at 10th St             37.776619     ...       \n",
       "4091          Derby St at College Ave             37.861804     ...       \n",
       "\n",
       "       bike_id   user_type member_birth_year  member_gender  \\\n",
       "78222     6537    Customer               NaN            NaN   \n",
       "33079     5145  Subscriber               NaN            NaN   \n",
       "32733      567    Customer               NaN            NaN   \n",
       "72391     4975  Subscriber               NaN            NaN   \n",
       "4091      4700    Customer               NaN            NaN   \n",
       "\n",
       "      bike_share_for_all_trip age  start_date start_hour start_day start_month  \n",
       "78222                      No NaN  2019-02-18         20    Monday    February  \n",
       "33079                      No NaN  2019-02-24         12    Sunday    February  \n",
       "32733                      No NaN  2019-02-24         13    Sunday    February  \n",
       "72391                      No NaN  2019-02-19         16   Tuesday    February  \n",
       "4091                       No NaN  2019-02-28         16  Thursday    February  \n",
       "\n",
       "[5 rows x 21 columns]"
      ]
     },
     "execution_count": 26,
     "metadata": {},
     "output_type": "execute_result"
    }
   ],
   "source": [
    "# seems like there are missing rows in our age dataset, we will remove these columns\n",
    "bike_df[bike_df['age'].isnull()].sample(5)"
   ]
  },
  {
   "cell_type": "code",
   "execution_count": 27,
   "metadata": {
    "scrolled": true
   },
   "outputs": [
    {
     "data": {
      "text/html": [
       "<div>\n",
       "<style scoped>\n",
       "    .dataframe tbody tr th:only-of-type {\n",
       "        vertical-align: middle;\n",
       "    }\n",
       "\n",
       "    .dataframe tbody tr th {\n",
       "        vertical-align: top;\n",
       "    }\n",
       "\n",
       "    .dataframe thead th {\n",
       "        text-align: right;\n",
       "    }\n",
       "</style>\n",
       "<table border=\"1\" class=\"dataframe\">\n",
       "  <thead>\n",
       "    <tr style=\"text-align: right;\">\n",
       "      <th></th>\n",
       "      <th>data_type</th>\n",
       "      <th>non-null-rows</th>\n",
       "      <th>unique_rows</th>\n",
       "      <th>missing_rows</th>\n",
       "    </tr>\n",
       "  </thead>\n",
       "  <tbody>\n",
       "    <tr>\n",
       "      <th>duration_sec</th>\n",
       "      <td>int64</td>\n",
       "      <td>175147</td>\n",
       "      <td>4432</td>\n",
       "      <td>0</td>\n",
       "    </tr>\n",
       "    <tr>\n",
       "      <th>start_time</th>\n",
       "      <td>datetime64[ns]</td>\n",
       "      <td>175147</td>\n",
       "      <td>175136</td>\n",
       "      <td>0</td>\n",
       "    </tr>\n",
       "    <tr>\n",
       "      <th>end_time</th>\n",
       "      <td>datetime64[ns]</td>\n",
       "      <td>175147</td>\n",
       "      <td>175134</td>\n",
       "      <td>0</td>\n",
       "    </tr>\n",
       "    <tr>\n",
       "      <th>start_station_id</th>\n",
       "      <td>object</td>\n",
       "      <td>175147</td>\n",
       "      <td>330</td>\n",
       "      <td>0</td>\n",
       "    </tr>\n",
       "    <tr>\n",
       "      <th>start_station_name</th>\n",
       "      <td>object</td>\n",
       "      <td>174952</td>\n",
       "      <td>329</td>\n",
       "      <td>195</td>\n",
       "    </tr>\n",
       "    <tr>\n",
       "      <th>start_station_latitude</th>\n",
       "      <td>float64</td>\n",
       "      <td>175147</td>\n",
       "      <td>334</td>\n",
       "      <td>0</td>\n",
       "    </tr>\n",
       "    <tr>\n",
       "      <th>start_station_longitude</th>\n",
       "      <td>float64</td>\n",
       "      <td>175147</td>\n",
       "      <td>335</td>\n",
       "      <td>0</td>\n",
       "    </tr>\n",
       "    <tr>\n",
       "      <th>end_station_id</th>\n",
       "      <td>object</td>\n",
       "      <td>175147</td>\n",
       "      <td>330</td>\n",
       "      <td>0</td>\n",
       "    </tr>\n",
       "    <tr>\n",
       "      <th>end_station_name</th>\n",
       "      <td>object</td>\n",
       "      <td>174952</td>\n",
       "      <td>329</td>\n",
       "      <td>195</td>\n",
       "    </tr>\n",
       "    <tr>\n",
       "      <th>end_station_latitude</th>\n",
       "      <td>float64</td>\n",
       "      <td>175147</td>\n",
       "      <td>335</td>\n",
       "      <td>0</td>\n",
       "    </tr>\n",
       "    <tr>\n",
       "      <th>end_station_longitude</th>\n",
       "      <td>float64</td>\n",
       "      <td>175147</td>\n",
       "      <td>335</td>\n",
       "      <td>0</td>\n",
       "    </tr>\n",
       "    <tr>\n",
       "      <th>bike_id</th>\n",
       "      <td>object</td>\n",
       "      <td>175147</td>\n",
       "      <td>4635</td>\n",
       "      <td>0</td>\n",
       "    </tr>\n",
       "    <tr>\n",
       "      <th>user_type</th>\n",
       "      <td>category</td>\n",
       "      <td>175147</td>\n",
       "      <td>2</td>\n",
       "      <td>0</td>\n",
       "    </tr>\n",
       "    <tr>\n",
       "      <th>member_birth_year</th>\n",
       "      <td>float64</td>\n",
       "      <td>175147</td>\n",
       "      <td>75</td>\n",
       "      <td>0</td>\n",
       "    </tr>\n",
       "    <tr>\n",
       "      <th>member_gender</th>\n",
       "      <td>category</td>\n",
       "      <td>175147</td>\n",
       "      <td>3</td>\n",
       "      <td>0</td>\n",
       "    </tr>\n",
       "    <tr>\n",
       "      <th>bike_share_for_all_trip</th>\n",
       "      <td>object</td>\n",
       "      <td>175147</td>\n",
       "      <td>2</td>\n",
       "      <td>0</td>\n",
       "    </tr>\n",
       "    <tr>\n",
       "      <th>age</th>\n",
       "      <td>int32</td>\n",
       "      <td>175147</td>\n",
       "      <td>75</td>\n",
       "      <td>0</td>\n",
       "    </tr>\n",
       "    <tr>\n",
       "      <th>start_date</th>\n",
       "      <td>object</td>\n",
       "      <td>175147</td>\n",
       "      <td>28</td>\n",
       "      <td>0</td>\n",
       "    </tr>\n",
       "    <tr>\n",
       "      <th>start_hour</th>\n",
       "      <td>object</td>\n",
       "      <td>175147</td>\n",
       "      <td>24</td>\n",
       "      <td>0</td>\n",
       "    </tr>\n",
       "    <tr>\n",
       "      <th>start_day</th>\n",
       "      <td>object</td>\n",
       "      <td>175147</td>\n",
       "      <td>7</td>\n",
       "      <td>0</td>\n",
       "    </tr>\n",
       "    <tr>\n",
       "      <th>start_month</th>\n",
       "      <td>object</td>\n",
       "      <td>175147</td>\n",
       "      <td>1</td>\n",
       "      <td>0</td>\n",
       "    </tr>\n",
       "  </tbody>\n",
       "</table>\n",
       "</div>"
      ],
      "text/plain": [
       "                              data_type  non-null-rows  unique_rows  \\\n",
       "duration_sec                      int64         175147         4432   \n",
       "start_time               datetime64[ns]         175147       175136   \n",
       "end_time                 datetime64[ns]         175147       175134   \n",
       "start_station_id                 object         175147          330   \n",
       "start_station_name               object         174952          329   \n",
       "start_station_latitude          float64         175147          334   \n",
       "start_station_longitude         float64         175147          335   \n",
       "end_station_id                   object         175147          330   \n",
       "end_station_name                 object         174952          329   \n",
       "end_station_latitude            float64         175147          335   \n",
       "end_station_longitude           float64         175147          335   \n",
       "bike_id                          object         175147         4635   \n",
       "user_type                      category         175147            2   \n",
       "member_birth_year               float64         175147           75   \n",
       "member_gender                  category         175147            3   \n",
       "bike_share_for_all_trip          object         175147            2   \n",
       "age                               int32         175147           75   \n",
       "start_date                       object         175147           28   \n",
       "start_hour                       object         175147           24   \n",
       "start_day                        object         175147            7   \n",
       "start_month                      object         175147            1   \n",
       "\n",
       "                         missing_rows  \n",
       "duration_sec                        0  \n",
       "start_time                          0  \n",
       "end_time                            0  \n",
       "start_station_id                    0  \n",
       "start_station_name                195  \n",
       "start_station_latitude              0  \n",
       "start_station_longitude             0  \n",
       "end_station_id                      0  \n",
       "end_station_name                  195  \n",
       "end_station_latitude                0  \n",
       "end_station_longitude               0  \n",
       "bike_id                             0  \n",
       "user_type                           0  \n",
       "member_birth_year                   0  \n",
       "member_gender                       0  \n",
       "bike_share_for_all_trip             0  \n",
       "age                                 0  \n",
       "start_date                          0  \n",
       "start_hour                          0  \n",
       "start_day                           0  \n",
       "start_month                         0  "
      ]
     },
     "execution_count": 27,
     "metadata": {},
     "output_type": "execute_result"
    }
   ],
   "source": [
    "# removing null/na numbers of members without age\n",
    "bike_df = bike_df.dropna(subset=['age'])\n",
    "# casting age into appropriate datatype (int)\n",
    "bike_df = bike_df.astype({'age': 'int32'})\n",
    "\n",
    "summary(bike_df)"
   ]
  },
  {
   "cell_type": "markdown",
   "metadata": {},
   "source": [
    "### What is the structure of your dataset?\n",
    "\n",
    "> Every dataset corresponds to a single, distinct journey made by a user during the month of February. It includes the journey's beginning, ending, duration, and other spatial information. There are around 183k records over 16 different variables. With about 183k records, there are a total of 16 variables. Three major groups of these records can be broadly divided:\n",
    "<br><br>\n",
    "1- Timeseries data - e.g, duration_sec, start/end_time, birth_year<br>\n",
    "2- Spatial data - e.g, start/end_station_longitude/latitude<br>\n",
    "3- Member information - gender, age<br>\n",
    "4- Derived features - start_date/hour/day\n",
    "\n",
    "### What is/are the main feature(s) of interest in your dataset?\n",
    "\n",
    "> Understanding riders' usage patterns, which take into account their ride characteristics (e.g. the user's profile (e. g., trip durations) and other data (e. g, age, gender, and user_type).\n",
    "\n",
    "### What features in the dataset do you think will help support your investigation into your feature(s) of interest?\n",
    "\n",
    "> Understanding the usage patterns will be aided by the start and end time variables. We can also learn which days are the most popular with users thanks to start_day/month. The member data, such as user type, gender, and age, will assist us in identifying the main target customer segments. We can then use the various groups to summarize the data on bike usage to check for any distinctive patterns related to particular riding communities."
   ]
  },
  {
   "cell_type": "code",
   "execution_count": 28,
   "metadata": {},
   "outputs": [
    {
     "data": {
      "text/html": [
       "<div>\n",
       "<style scoped>\n",
       "    .dataframe tbody tr th:only-of-type {\n",
       "        vertical-align: middle;\n",
       "    }\n",
       "\n",
       "    .dataframe tbody tr th {\n",
       "        vertical-align: top;\n",
       "    }\n",
       "\n",
       "    .dataframe thead th {\n",
       "        text-align: right;\n",
       "    }\n",
       "</style>\n",
       "<table border=\"1\" class=\"dataframe\">\n",
       "  <thead>\n",
       "    <tr style=\"text-align: right;\">\n",
       "      <th></th>\n",
       "      <th>duration_sec</th>\n",
       "      <th>start_time</th>\n",
       "      <th>end_time</th>\n",
       "      <th>start_station_id</th>\n",
       "      <th>start_station_name</th>\n",
       "      <th>start_station_latitude</th>\n",
       "      <th>start_station_longitude</th>\n",
       "      <th>end_station_id</th>\n",
       "      <th>end_station_name</th>\n",
       "      <th>end_station_latitude</th>\n",
       "      <th>...</th>\n",
       "      <th>bike_id</th>\n",
       "      <th>user_type</th>\n",
       "      <th>member_birth_year</th>\n",
       "      <th>member_gender</th>\n",
       "      <th>bike_share_for_all_trip</th>\n",
       "      <th>age</th>\n",
       "      <th>start_date</th>\n",
       "      <th>start_hour</th>\n",
       "      <th>start_day</th>\n",
       "      <th>start_month</th>\n",
       "    </tr>\n",
       "  </thead>\n",
       "  <tbody>\n",
       "    <tr>\n",
       "      <th>121784</th>\n",
       "      <td>410</td>\n",
       "      <td>2019-02-11 14:02:29.734</td>\n",
       "      <td>2019-02-11 14:09:19.865</td>\n",
       "      <td>130.0</td>\n",
       "      <td>22nd St Caltrain Station</td>\n",
       "      <td>37.757288</td>\n",
       "      <td>-122.392051</td>\n",
       "      <td>345.0</td>\n",
       "      <td>Hubbell St at 16th St</td>\n",
       "      <td>37.766483</td>\n",
       "      <td>...</td>\n",
       "      <td>5541</td>\n",
       "      <td>Subscriber</td>\n",
       "      <td>1987.0</td>\n",
       "      <td>Male</td>\n",
       "      <td>No</td>\n",
       "      <td>35</td>\n",
       "      <td>2019-02-11</td>\n",
       "      <td>14</td>\n",
       "      <td>Monday</td>\n",
       "      <td>February</td>\n",
       "    </tr>\n",
       "    <tr>\n",
       "      <th>61665</th>\n",
       "      <td>961</td>\n",
       "      <td>2019-02-20 17:23:58.929</td>\n",
       "      <td>2019-02-20 17:40:00.508</td>\n",
       "      <td>36.0</td>\n",
       "      <td>Folsom St at 3rd St</td>\n",
       "      <td>37.783830</td>\n",
       "      <td>-122.398870</td>\n",
       "      <td>115.0</td>\n",
       "      <td>Jackson Playground</td>\n",
       "      <td>37.765026</td>\n",
       "      <td>...</td>\n",
       "      <td>4413</td>\n",
       "      <td>Subscriber</td>\n",
       "      <td>1991.0</td>\n",
       "      <td>Female</td>\n",
       "      <td>No</td>\n",
       "      <td>31</td>\n",
       "      <td>2019-02-20</td>\n",
       "      <td>17</td>\n",
       "      <td>Wednesday</td>\n",
       "      <td>February</td>\n",
       "    </tr>\n",
       "    <tr>\n",
       "      <th>101706</th>\n",
       "      <td>334</td>\n",
       "      <td>2019-02-14 17:20:33.503</td>\n",
       "      <td>2019-02-14 17:26:07.719</td>\n",
       "      <td>110.0</td>\n",
       "      <td>17th &amp; Folsom Street Park (17th St at Folsom St)</td>\n",
       "      <td>37.763708</td>\n",
       "      <td>-122.415204</td>\n",
       "      <td>59.0</td>\n",
       "      <td>S Van Ness Ave at Market St</td>\n",
       "      <td>37.774814</td>\n",
       "      <td>...</td>\n",
       "      <td>6348</td>\n",
       "      <td>Customer</td>\n",
       "      <td>1993.0</td>\n",
       "      <td>Male</td>\n",
       "      <td>No</td>\n",
       "      <td>29</td>\n",
       "      <td>2019-02-14</td>\n",
       "      <td>17</td>\n",
       "      <td>Thursday</td>\n",
       "      <td>February</td>\n",
       "    </tr>\n",
       "    <tr>\n",
       "      <th>139408</th>\n",
       "      <td>948</td>\n",
       "      <td>2019-02-07 21:07:34.384</td>\n",
       "      <td>2019-02-07 21:23:23.035</td>\n",
       "      <td>92.0</td>\n",
       "      <td>Mission Bay Kids Park</td>\n",
       "      <td>37.772301</td>\n",
       "      <td>-122.393028</td>\n",
       "      <td>92.0</td>\n",
       "      <td>Mission Bay Kids Park</td>\n",
       "      <td>37.772301</td>\n",
       "      <td>...</td>\n",
       "      <td>5547</td>\n",
       "      <td>Subscriber</td>\n",
       "      <td>1968.0</td>\n",
       "      <td>Male</td>\n",
       "      <td>No</td>\n",
       "      <td>54</td>\n",
       "      <td>2019-02-07</td>\n",
       "      <td>21</td>\n",
       "      <td>Thursday</td>\n",
       "      <td>February</td>\n",
       "    </tr>\n",
       "    <tr>\n",
       "      <th>71602</th>\n",
       "      <td>299</td>\n",
       "      <td>2019-02-19 17:24:17.057</td>\n",
       "      <td>2019-02-19 17:29:16.654</td>\n",
       "      <td>245.0</td>\n",
       "      <td>Downtown Berkeley BART</td>\n",
       "      <td>37.870139</td>\n",
       "      <td>-122.268422</td>\n",
       "      <td>247.0</td>\n",
       "      <td>Fulton St at Bancroft Way</td>\n",
       "      <td>37.867789</td>\n",
       "      <td>...</td>\n",
       "      <td>5089</td>\n",
       "      <td>Subscriber</td>\n",
       "      <td>1996.0</td>\n",
       "      <td>Female</td>\n",
       "      <td>Yes</td>\n",
       "      <td>26</td>\n",
       "      <td>2019-02-19</td>\n",
       "      <td>17</td>\n",
       "      <td>Tuesday</td>\n",
       "      <td>February</td>\n",
       "    </tr>\n",
       "  </tbody>\n",
       "</table>\n",
       "<p>5 rows × 21 columns</p>\n",
       "</div>"
      ],
      "text/plain": [
       "        duration_sec              start_time                end_time  \\\n",
       "121784           410 2019-02-11 14:02:29.734 2019-02-11 14:09:19.865   \n",
       "61665            961 2019-02-20 17:23:58.929 2019-02-20 17:40:00.508   \n",
       "101706           334 2019-02-14 17:20:33.503 2019-02-14 17:26:07.719   \n",
       "139408           948 2019-02-07 21:07:34.384 2019-02-07 21:23:23.035   \n",
       "71602            299 2019-02-19 17:24:17.057 2019-02-19 17:29:16.654   \n",
       "\n",
       "       start_station_id                                start_station_name  \\\n",
       "121784            130.0                          22nd St Caltrain Station   \n",
       "61665              36.0                               Folsom St at 3rd St   \n",
       "101706            110.0  17th & Folsom Street Park (17th St at Folsom St)   \n",
       "139408             92.0                             Mission Bay Kids Park   \n",
       "71602             245.0                            Downtown Berkeley BART   \n",
       "\n",
       "        start_station_latitude  start_station_longitude end_station_id  \\\n",
       "121784               37.757288              -122.392051          345.0   \n",
       "61665                37.783830              -122.398870          115.0   \n",
       "101706               37.763708              -122.415204           59.0   \n",
       "139408               37.772301              -122.393028           92.0   \n",
       "71602                37.870139              -122.268422          247.0   \n",
       "\n",
       "                   end_station_name  end_station_latitude     ...      \\\n",
       "121784        Hubbell St at 16th St             37.766483     ...       \n",
       "61665            Jackson Playground             37.765026     ...       \n",
       "101706  S Van Ness Ave at Market St             37.774814     ...       \n",
       "139408        Mission Bay Kids Park             37.772301     ...       \n",
       "71602     Fulton St at Bancroft Way             37.867789     ...       \n",
       "\n",
       "        bike_id   user_type member_birth_year  member_gender  \\\n",
       "121784     5541  Subscriber            1987.0           Male   \n",
       "61665      4413  Subscriber            1991.0         Female   \n",
       "101706     6348    Customer            1993.0           Male   \n",
       "139408     5547  Subscriber            1968.0           Male   \n",
       "71602      5089  Subscriber            1996.0         Female   \n",
       "\n",
       "       bike_share_for_all_trip age  start_date start_hour  start_day  \\\n",
       "121784                      No  35  2019-02-11         14     Monday   \n",
       "61665                       No  31  2019-02-20         17  Wednesday   \n",
       "101706                      No  29  2019-02-14         17   Thursday   \n",
       "139408                      No  54  2019-02-07         21   Thursday   \n",
       "71602                      Yes  26  2019-02-19         17    Tuesday   \n",
       "\n",
       "       start_month  \n",
       "121784    February  \n",
       "61665     February  \n",
       "101706    February  \n",
       "139408    February  \n",
       "71602     February  \n",
       "\n",
       "[5 rows x 21 columns]"
      ]
     },
     "execution_count": 28,
     "metadata": {},
     "output_type": "execute_result"
    }
   ],
   "source": [
    "# overview of dataset\n",
    "bike_df.sample(5)"
   ]
  },
  {
   "cell_type": "markdown",
   "metadata": {},
   "source": [
    "## Univariate Exploration\n",
    "\n",
    "> In this section, investigate distributions of individual variables. If\n",
    "you see unusual points or outliers, take a deeper look to clean things up\n",
    "and prepare yourself to look at relationships between variables.\n",
    "\n",
    "\n",
    "> **Rubric Tip**: The project (Parts I alone) should have at least 15 visualizations distributed over univariate, bivariate, and multivariate plots to explore many relationships in the data set.  Use reasoning to justify the flow of the exploration.\n",
    "\n",
    "\n",
    "\n",
    ">**Rubric Tip**: Use the \"Question-Visualization-Observations\" framework  throughout the exploration. This framework involves **asking a question from the data, creating a visualization to find answers, and then recording observations after each visualisation.** \n"
   ]
  },
  {
   "cell_type": "code",
   "execution_count": 29,
   "metadata": {},
   "outputs": [
    {
     "data": {
      "text/plain": [
       "<matplotlib.figure.Figure at 0x7f93a92a0390>"
      ]
     },
     "execution_count": 29,
     "metadata": {},
     "output_type": "execute_result"
    },
    {
     "data": {
      "text/plain": [
       "<matplotlib.figure.Figure at 0x7f93a92a0390>"
      ]
     },
     "metadata": {},
     "output_type": "display_data"
    }
   ],
   "source": [
    "# define a default chart size for all visualizations\n",
    "plt.rcParams[\"figure.figsize\"] = (9,7)\n",
    "# seaborn plot size\n",
    "plt.figure(figsize=[9, 7])"
   ]
  },
  {
   "cell_type": "markdown",
   "metadata": {},
   "source": [
    "\n",
    "\n",
    ">**Rubric Tip**: Visualizations should depict the data appropriately so that the plots are easily interpretable. You should choose an appropriate plot type, data encodings, and formatting as needed. The formatting may include setting/adding the title, labels, legend, and comments. Also, do not overplot or incorrectly plot ordinal data."
   ]
  },
  {
   "cell_type": "markdown",
   "metadata": {},
   "source": [
    "## Visualization 1: What is the distribution of rides by user_type?"
   ]
  },
  {
   "cell_type": "code",
   "execution_count": 30,
   "metadata": {},
   "outputs": [
    {
     "data": {
      "text/plain": [
       "Text(0.5,1,'Distribution of rides by usertype')"
      ]
     },
     "execution_count": 30,
     "metadata": {},
     "output_type": "execute_result"
    },
    {
     "data": {
      "image/png": "[encoded data removed]",
      "text/plain": [
       "<matplotlib.figure.Figure at 0x7f93a928ecf8>"
      ]
     },
     "metadata": {},
     "output_type": "display_data"
    }
   ],
   "source": [
    "# segmenting out our dataset for the pie plot\n",
    "bike_df.user_type.value_counts().plot(kind='pie', autopct='%1.1f%%', shadow=True, colors=['#ff9999','#66b3ff'], fontsize=16)\n",
    "# naming the line chart\n",
    "plt.title(\"Distribution of rides by usertype\", fontsize=17)"
   ]
  },
  {
   "cell_type": "markdown",
   "metadata": {},
   "source": [
    "As observed, a significant majority of rides were completed by subscribers (90.5%) as compared to customers at 9.5%."
   ]
  },
  {
   "cell_type": "markdown",
   "metadata": {},
   "source": [
    "### Visualization 2: What is the trip distribution over the hours of a day?"
   ]
  },
  {
   "cell_type": "code",
   "execution_count": 31,
   "metadata": {},
   "outputs": [
    {
     "data": {
      "text/plain": [
       "Text(0,0.5,'Frequency')"
      ]
     },
     "execution_count": 31,
     "metadata": {},
     "output_type": "execute_result"
    },
    {
     "data": {
      "image/png": "[encoded data removed]",
      "text/plain": [
       "<matplotlib.figure.Figure at 0x7f93a9287c50>"
      ]
     },
     "metadata": {
      "needs_background": "light"
     },
     "output_type": "display_data"
    }
   ],
   "source": [
    "trip_hour_distribution = sns.countplot(data=bike_df, x='start_hour', color='#66b3ff')\n",
    "\n",
    "# set title of plot\n",
    "trip_hour_distribution.axes.set_title('Distribution of trips by hour', fontsize=17)\n",
    "# set x_label of plot\n",
    "trip_hour_distribution.axes.set_xlabel('Hour of the day', fontsize=17)\n",
    "# set y_label of plot\n",
    "trip_hour_distribution.axes.set_ylabel('Frequency', fontsize=17)"
   ]
  },
  {
   "cell_type": "markdown",
   "metadata": {},
   "source": [
    "Trips peaked around 8am and 5pm, which seems to be during the rush hour periods.\n",
    "\n"
   ]
  },
  {
   "cell_type": "markdown",
   "metadata": {},
   "source": [
    "## Visualization 3: What is the trip distribution over days of the week?"
   ]
  },
  {
   "cell_type": "code",
   "execution_count": 32,
   "metadata": {},
   "outputs": [
    {
     "data": {
      "text/plain": [
       "Text(0,0.5,'Frequency')"
      ]
     },
     "execution_count": 32,
     "metadata": {},
     "output_type": "execute_result"
    },
    {
     "data": {
      "image/png": "[encoded data removed]",
      "text/plain": [
       "<matplotlib.figure.Figure at 0x7f93a922c518>"
      ]
     },
     "metadata": {
      "needs_background": "light"
     },
     "output_type": "display_data"
    }
   ],
   "source": [
    "# defining days of the week for our chart\n",
    "days_of_week = ['Monday', 'Tuesday', 'Wednesday', 'Thursday', 'Friday', 'Saturday', 'Sunday']\n",
    "# declaring the day list as ordered data\n",
    "days_of_week_cat = pd.api.types.CategoricalDtype(ordered=True, categories=days_of_week)\n",
    "bike_df = bike_df.astype({'start_day': days_of_week_cat})\n",
    "\n",
    "# defining the countplot\n",
    "trip_day_distribution = sns.countplot(data=bike_df, x='start_day', color='#66b3ff')\n",
    "\n",
    "# set title of plot\n",
    "trip_day_distribution.axes.set_title('Distribution of trips by day of week', fontsize=17)\n",
    "# set x_label of plot\n",
    "trip_day_distribution.axes.set_xlabel('Day of the week', fontsize=17)\n",
    "# set y_label of plot\n",
    "trip_day_distribution.axes.set_ylabel('Frequency', fontsize=17)"
   ]
  },
  {
   "cell_type": "markdown",
   "metadata": {},
   "source": [
    "Trips typically happened more during the weekdays rather than the weekends."
   ]
  },
  {
   "cell_type": "markdown",
   "metadata": {},
   "source": [
    "## Visualization 4: What is the trip distribution of days in the month of February?"
   ]
  },
  {
   "cell_type": "code",
   "execution_count": 33,
   "metadata": {},
   "outputs": [
    {
     "data": {
      "text/plain": [
       "Text(0,0.5,'Frequency')"
      ]
     },
     "execution_count": 33,
     "metadata": {},
     "output_type": "execute_result"
    },
    {
     "data": {
      "image/png": "[encoded data removed]",
      "text/plain": [
       "<matplotlib.figure.Figure at 0x7f93a92a6780>"
      ]
     },
     "metadata": {
      "needs_background": "light"
     },
     "output_type": "display_data"
    }
   ],
   "source": [
    "# defining days of the month for our chart\n",
    "days_of_month = bike_df.start_date.unique().tolist().reverse()\n",
    "days_of_month_cat = pd.api.types.CategoricalDtype(ordered=True, categories=days_of_month)\n",
    "bike_df = bike_df.astype({'start_date': days_of_month_cat})\n",
    "\n",
    "# defining the countplot\n",
    "trip_month_distribution = sns.countplot(data=bike_df, x='start_date', color='#66b3ff')\n",
    "# rotation x-axis for clarity\n",
    "plt.xticks(rotation=45)\n",
    "# set title of plot\n",
    "trip_month_distribution.axes.set_title('Distribution of trips by day in February', fontsize=17)\n",
    "# set x_label of plot\n",
    "trip_month_distribution.axes.set_xlabel('Day of the Month', fontsize=17)\n",
    "# set y_label of plot\n",
    "trip_month_distribution.axes.set_ylabel('Frequency', fontsize=17)"
   ]
  },
  {
   "cell_type": "markdown",
   "metadata": {},
   "source": [
    "Dips in the trip frequency throughout the month seems to coincide with the weekends."
   ]
  },
  {
   "cell_type": "markdown",
   "metadata": {},
   "source": [
    "### Visualization 5: What is the distribution of trips by member age?"
   ]
  },
  {
   "cell_type": "code",
   "execution_count": 34,
   "metadata": {},
   "outputs": [
    {
     "data": {
      "image/png": "[encoded data removed]",
      "text/plain": [
       "<matplotlib.figure.Figure at 0x7f93a9282358>"
      ]
     },
     "metadata": {
      "needs_background": "light"
     },
     "output_type": "display_data"
    }
   ],
   "source": [
    "bins = np.arange(0, bike_df['age'].max()+5, 5)\n",
    "plt.hist(data=bike_df, x='age', bins=bins, color='#66b3ff')\n",
    "\n",
    "# set title of the histogram\n",
    "plt.title('Distribution of Trips by Age', fontsize=17)\n",
    "# set x_label of plot\n",
    "plt.xlabel('Member Age', fontsize=17)\n",
    "# set y_label of plot\n",
    "plt.ylabel('Frequency', fontsize=17)\n",
    "# add gridlines\n",
    "plt.grid(axis='y', linestyle='--')"
   ]
  },
  {
   "cell_type": "markdown",
   "metadata": {},
   "source": [
    "Fewer individuals in their 20s, but interestingly there seems to be datapoints for users at age > 100. Might be an error."
   ]
  },
  {
   "cell_type": "markdown",
   "metadata": {},
   "source": [
    "## Visualization 6: What is the distribution of trip by duration (seconds)?"
   ]
  },
  {
   "cell_type": "code",
   "execution_count": 35,
   "metadata": {},
   "outputs": [
    {
     "data": {
      "image/png": "[encoded data removed]",
      "text/plain": [
       "<matplotlib.figure.Figure at 0x7f93a927f898>"
      ]
     },
     "metadata": {
      "needs_background": "light"
     },
     "output_type": "display_data"
    }
   ],
   "source": [
    "bins = np.arange(0, 4000, 1)\n",
    "ticks = np.arange(0, 100, 5)\n",
    "plt.hist(data=bike_df, x='duration_sec', bins=bins, color='#66b3ff')\n",
    "\n",
    "# set title of the histogram\n",
    "plt.title('Distribution of Trips by seconds', fontsize=17)\n",
    "# set x_label of plot\n",
    "plt.xlabel('Seconds (s)', fontsize=17)\n",
    "# set y_label of plot\n",
    "plt.ylabel('Frequency', fontsize=17)\n",
    "# add gridlines\n",
    "plt.grid(axis='y', linestyle='--')"
   ]
  },
  {
   "cell_type": "markdown",
   "metadata": {},
   "source": [
    "\n",
    "From the histogram, it seems that the distribution of trips duration is right skewed. This tells us most trips are concentrated around the 500-700 seconds duration (8~11 minutes long). This might indicate that individuals typically use the bikes for specific use cases rather than leisure."
   ]
  },
  {
   "cell_type": "markdown",
   "metadata": {},
   "source": [
    "**Discuss the distribution(s) of your variable(s) of interest. Were there any unusual points? Did you need to perform any transformations?**"
   ]
  },
  {
   "cell_type": "markdown",
   "metadata": {},
   "source": [
    "Trips typically peaked around 8am and 5pm, which seems to be the rush hour time period for working/schooling individuals. There were also significantly more subscribers (90+%) than customers in our dataset.\n",
    "<br><br>\n",
    "Most rides happened during the weekdays (Mon-Fri) and were short in duration (< 10 minutes) per trip. Also, a large proportion of users age were around late 30s to early 40s."
   ]
  },
  {
   "cell_type": "markdown",
   "metadata": {},
   "source": [
    "**Of the features you investigated, were there any unusual distributions? Did you perform any operations on the data to tidy, adjust, or change the form of the data? If so, why did you do this?**"
   ]
  },
  {
   "cell_type": "markdown",
   "metadata": {},
   "source": [
    "The trip duration seems to have some extreme outliers that skewed the chart, this is something that I will attempt to clean in the bivariate exploration stage when the issue becomes more apparent."
   ]
  },
  {
   "cell_type": "markdown",
   "metadata": {},
   "source": [
    "## Bivariate Exploration"
   ]
  },
  {
   "cell_type": "markdown",
   "metadata": {},
   "source": [
    "**Visualization 7: What is the age distribution of bike users membership type?**"
   ]
  },
  {
   "cell_type": "code",
   "execution_count": 36,
   "metadata": {},
   "outputs": [
    {
     "data": {
      "image/png": "[encoded data removed]",
      "text/plain": [
       "<matplotlib.figure.Figure at 0x7f93a4a8a2e8>"
      ]
     },
     "metadata": {
      "needs_background": "light"
     },
     "output_type": "display_data"
    }
   ],
   "source": [
    "sns.boxplot(data=bike_df, x='user_type', y='age', color='#66b3ff')\n",
    "\n",
    "# set title of the histogram\n",
    "plt.title('Age distribution of bike users by type', fontsize=17)\n",
    "# set x_label of plot\n",
    "plt.xlabel('User Type', fontsize=17)\n",
    "# set y_label of plot\n",
    "plt.ylabel('User Age', fontsize=17)\n",
    "# add gridlines\n",
    "plt.grid(axis='y', linestyle='--')"
   ]
  },
  {
   "cell_type": "markdown",
   "metadata": {},
   "source": [
    "The median user age and age distribution between Customer and Subscribers are quite similar."
   ]
  },
  {
   "cell_type": "markdown",
   "metadata": {},
   "source": [
    "## Visualization 8: Average trip duration by day of the week"
   ]
  },
  {
   "cell_type": "code",
   "execution_count": 37,
   "metadata": {},
   "outputs": [
    {
     "data": {
      "image/png": "[encoded data removed]",
      "text/plain": [
       "<matplotlib.figure.Figure at 0x7f93a9316588>"
      ]
     },
     "metadata": {
      "needs_background": "light"
     },
     "output_type": "display_data"
    }
   ],
   "source": [
    "sns.barplot(data=bike_df, x='start_day', y='duration_sec', color='#66b3ff')\n",
    "\n",
    "# set title of the barplot\n",
    "plt.title('Trip duration by day of week', fontsize=17)\n",
    "# set x_label of plot\n",
    "plt.xlabel('Day of week', fontsize=17)\n",
    "# set y_label of plot\n",
    "plt.ylabel('Duration in Seconds', fontsize=17)\n",
    "# add gridlines\n",
    "plt.grid(axis='y', linestyle='--')"
   ]
  },
  {
   "cell_type": "markdown",
   "metadata": {},
   "source": [
    "Even though more trips happened during weekdays, the duration of each trip seems to be longer during the weekends. This is very interesting insights."
   ]
  },
  {
   "cell_type": "markdown",
   "metadata": {},
   "source": [
    "## Visualization 9: Average trip duration by Gender"
   ]
  },
  {
   "cell_type": "code",
   "execution_count": 38,
   "metadata": {},
   "outputs": [
    {
     "data": {
      "image/png": "[encoded data removed]",
      "text/plain": [
       "<matplotlib.figure.Figure at 0x7f93a60c9390>"
      ]
     },
     "metadata": {
      "needs_background": "light"
     },
     "output_type": "display_data"
    }
   ],
   "source": [
    "sns.barplot(data=bike_df, x='member_gender', y='duration_sec', color='#66b3ff')\n",
    "\n",
    "# set title of the barplot\n",
    "plt.title('Trip duration by gender', fontsize=17)\n",
    "# set x_label of plot\n",
    "plt.xlabel('Gender', fontsize=17)\n",
    "# set y_label of plot\n",
    "plt.ylabel('Duration in Seconds', fontsize=17)\n",
    "# add gridlines\n",
    "plt.grid(axis='y', linestyle='--')"
   ]
  },
  {
   "cell_type": "markdown",
   "metadata": {},
   "source": [
    "## Visualization 10: Frequency of trips between user types by hour"
   ]
  },
  {
   "cell_type": "code",
   "execution_count": 41,
   "metadata": {},
   "outputs": [
    {
     "data": {
      "image/png": "[encoded data removed]",
      "text/plain": [
       "<matplotlib.figure.Figure at 0x7f93a6db7400>"
      ]
     },
     "metadata": {
      "needs_background": "light"
     },
     "output_type": "display_data"
    }
   ],
   "source": [
    "sns.countplot(data=bike_df, x='start_hour', hue='user_type')\n",
    "\n",
    "# set title of the barplot\n",
    "plt.title('Frequency of trips by User type by hour', fontsize=17)\n",
    "# set x_label of plot\n",
    "plt.xlabel('Hour of Day', fontsize=17)\n",
    "# set y_label of plot\n",
    "plt.ylabel('Frequency', fontsize=17)\n",
    "# add gridlines\n",
    "plt.grid(axis='y', linestyle='--')"
   ]
  },
  {
   "cell_type": "markdown",
   "metadata": {},
   "source": [
    "## Visualization 11: Frequency of trips between user types by day"
   ]
  },
  {
   "cell_type": "code",
   "execution_count": 42,
   "metadata": {},
   "outputs": [
    {
     "data": {
      "image/png": "[encoded data removed]",
      "text/plain": [
       "<matplotlib.figure.Figure at 0x7f93a6c1d518>"
      ]
     },
     "metadata": {
      "needs_background": "light"
     },
     "output_type": "display_data"
    }
   ],
   "source": [
    "sns.countplot(data=bike_df, x='start_day', hue='user_type')\n",
    "\n",
    "# set title of the barplot\n",
    "plt.title('Frequency of trips by User type by day', fontsize=17)\n",
    "# set x_label of plot\n",
    "plt.xlabel('Day of Week', fontsize=17)\n",
    "# set y_label of plot\n",
    "plt.ylabel('Frequency', fontsize=17)\n",
    "# add gridlines\n",
    "plt.grid(axis='y', linestyle='--')"
   ]
  },
  {
   "cell_type": "markdown",
   "metadata": {},
   "source": [
    "## Visualization 12: Distribution of users' age by Day of the week"
   ]
  },
  {
   "cell_type": "code",
   "execution_count": 43,
   "metadata": {},
   "outputs": [
    {
     "data": {
      "image/png": "[encoded data removed]",
      "text/plain": [
       "<matplotlib.figure.Figure at 0x7f93a93157b8>"
      ]
     },
     "metadata": {
      "needs_background": "light"
     },
     "output_type": "display_data"
    }
   ],
   "source": [
    "sns.boxplot(data=bike_df, x='start_day', y='age', color='#66b3ff')\n",
    "\n",
    "# set title of the barplot\n",
    "plt.title('Distribution of user age by day of the week', fontsize=17)\n",
    "# set x_label of plot\n",
    "plt.xlabel('Day of week', fontsize=17)\n",
    "# set y_label of plot\n",
    "plt.ylabel('Age', fontsize=17)\n",
    "# add gridlines\n",
    "plt.grid(axis='y', linestyle='--')"
   ]
  },
  {
   "cell_type": "markdown",
   "metadata": {},
   "source": [
    "## Visualization 13: Distribution of trip durations by user type"
   ]
  },
  {
   "cell_type": "code",
   "execution_count": 44,
   "metadata": {},
   "outputs": [
    {
     "data": {
      "text/plain": [
       "<matplotlib.axes._subplots.AxesSubplot at 0x7f93a9319940>"
      ]
     },
     "execution_count": 44,
     "metadata": {},
     "output_type": "execute_result"
    },
    {
     "data": {
      "image/png": "[encoded data removed]",
      "text/plain": [
       "<matplotlib.figure.Figure at 0x7f93a92a67f0>"
      ]
     },
     "metadata": {
      "needs_background": "light"
     },
     "output_type": "display_data"
    }
   ],
   "source": [
    "# creating a minute column\n",
    "bike_df['duration_min'] = bike_df['duration_sec']/60\n",
    "\n",
    "# trying to create a violin plot of distribution by minute\n",
    "sns.violinplot(data=bike_df, x='user_type', y='duration_min', color='#66b3ff', inner='quartile')"
   ]
  },
  {
   "cell_type": "markdown",
   "metadata": {},
   "source": [
    "The duration (in minutes) seems to be extremely skewed by outliers, we will attempt to remove it in the next step."
   ]
  },
  {
   "cell_type": "code",
   "execution_count": 45,
   "metadata": {},
   "outputs": [
    {
     "data": {
      "image/png": "[encoded data removed]",
      "text/plain": [
       "<matplotlib.figure.Figure at 0x7f93a92e0550>"
      ]
     },
     "metadata": {
      "needs_background": "light"
     },
     "output_type": "display_data"
    }
   ],
   "source": [
    "# we partition the distribution up till the 99th quantile, allowing us to filter out all the extreme outliers\n",
    "q = bike_df['duration_min'].quantile(0.99)\n",
    "\n",
    "# filtering out for extreme outliers\n",
    "duration_outliers_removed = bike_df[bike_df['duration_min'] < q]\n",
    "\n",
    "# creating our violin plot\n",
    "sns.violinplot(data=duration_outliers_removed, x='user_type', y='duration_min')\n",
    "\n",
    "# set title of the barplot\n",
    "plt.title('Distribution of user type by minutes', fontsize=17)\n",
    "# set x_label of plot\n",
    "plt.xlabel('User Type', fontsize=17)\n",
    "# set y_label of plot\n",
    "plt.ylabel('Duration', fontsize=17)\n",
    "# add gridlines\n",
    "plt.grid(axis='y', linestyle='--')"
   ]
  },
  {
   "cell_type": "markdown",
   "metadata": {},
   "source": [
    "After plotting our distribution, we can identify the following:\n",
    "<br><br>\n",
    "1- Customers had a higher median ride duration as compared to subscribers (as denoted by the white dot in our violinplot).\n",
    "<br>\n",
    "2- As the \"width\" of the violin plot represents the kernel density estimation of our dataset, we can conclude that Subscribers have a higher probability of taking shorter trips - as denoted by the thicker sections around the 5min duration range while Customers have a higher probability of taking trips closer to that of 10 minutes."
   ]
  },
  {
   "cell_type": "markdown",
   "metadata": {},
   "source": [
    "**Talk about some of the relationships you observed in this part of the investigation. How did the feature(s) of interest vary with other features in the dataset?**"
   ]
  },
  {
   "cell_type": "markdown",
   "metadata": {},
   "source": [
    "More people use subscription services than customers do. Customers and subscribers have very distinct riding patterns and habits. Because they use the bike sharing system for commuting, subscribers made the majority of trips on workdays (Mon-Fri), especially during rush hours (when going to work in the morning and getting off work in the afternoon. Customers typically ride for fun in the afternoon or early evening on weekends."
   ]
  },
  {
   "cell_type": "markdown",
   "metadata": {},
   "source": [
    "**Did you observe any interesting relationships between the other features (not the main feature(s) of interest)?**"
   ]
  },
  {
   "cell_type": "markdown",
   "metadata": {},
   "source": [
    "It's interesting to observe that subscribers typically ride much faster and shorter distances than typical customers. Additionally, subscribers used their bikes more frequently on weekdays than on weekends, suggesting that they might be using them for commuting to work or school rather than for leisure."
   ]
  },
  {
   "cell_type": "markdown",
   "metadata": {},
   "source": [
    "## Multivariate Exploration"
   ]
  },
  {
   "cell_type": "markdown",
   "metadata": {},
   "source": [
    "## Visualization 14: Average trip duration in days of the week between user types"
   ]
  },
  {
   "cell_type": "code",
   "execution_count": 46,
   "metadata": {},
   "outputs": [
    {
     "data": {
      "text/plain": [
       "Text(0,0.5,'Trip Duration (min)')"
      ]
     },
     "execution_count": 46,
     "metadata": {},
     "output_type": "execute_result"
    },
    {
     "data": {
      "image/png": "[encoded data removed]",
      "text/plain": [
       "<matplotlib.figure.Figure at 0x7f93a935f240>"
      ]
     },
     "metadata": {
      "needs_background": "light"
     },
     "output_type": "display_data"
    }
   ],
   "source": [
    "# creating our pointplot\n",
    "sns.pointplot(data=bike_df, x='start_day', y='duration_min', hue='user_type', capsize=0.01, linestyles=\":\")\n",
    "\n",
    "# set title of the barplot\n",
    "plt.title('Comparison of trip duration by days of a week between user types', fontsize=17)\n",
    "# set x_label of plot\n",
    "plt.xlabel('Day of week', fontsize=17)\n",
    "# set y_label of plot\n",
    "plt.ylabel('Trip Duration (min)', fontsize=17)"
   ]
  },
  {
   "cell_type": "markdown",
   "metadata": {},
   "source": [
    "As observed from the point plot, in general:\n",
    "<br><br>\n",
    "1- Customers took longer trips as compared to Subscribers.<br>\n",
    "2- On weekends, there is an increase in trip duration (though it is more pronounced in customers).<br>\n",
    "3- The error bars reveal the measure of central tendency for both user types, showing that customers typically have a much wider range in trip duration, as opposed to subscribers, who had a much more concentrated data spread. This finding suggests that users are more likely to have a trip duration that is close to the median.\n",
    "<br><br>\n",
    "This may be because of how long bikes can ride on each trip (e. G, After the daily free trip period, subscribers must pay for additional trips. )."
   ]
  },
  {
   "cell_type": "markdown",
   "metadata": {},
   "source": [
    "## Visualization 15: Hourly usage between user types across days of the week"
   ]
  },
  {
   "cell_type": "code",
   "execution_count": 47,
   "metadata": {},
   "outputs": [],
   "source": [
    "# defining a function to transform our dataset\n",
    "def heatmap_transform(df: pd.DataFrame, target:str) -> pd.DataFrame:\n",
    "    \"\"\"\n",
    "    Returns a pivot table of frequency count per day, by the hour\n",
    "    \n",
    "    Args: \n",
    "        df - A dataframe of n_rows and n_columns\n",
    "        target - user type we are interested in filtering for\n",
    "    Returns:\n",
    "        A pivot table\n",
    "    \"\"\"\n",
    "    \n",
    "    transformed_df = (\n",
    "        df\n",
    "        # filter out for given target argument\n",
    "        .query(f'user_type == \"{target}\"')\n",
    "        .groupby(['start_day', 'start_hour'])\n",
    "        .size()\n",
    "        .reset_index(name='count')\n",
    "        .pivot(index='start_day', columns='start_hour', values='count')\n",
    "        .fillna(0)\n",
    "    )\n",
    "    \n",
    "    return transformed_df"
   ]
  },
  {
   "cell_type": "code",
   "execution_count": 48,
   "metadata": {},
   "outputs": [
    {
     "data": {
      "text/html": [
       "<div>\n",
       "<style scoped>\n",
       "    .dataframe tbody tr th:only-of-type {\n",
       "        vertical-align: middle;\n",
       "    }\n",
       "\n",
       "    .dataframe tbody tr th {\n",
       "        vertical-align: top;\n",
       "    }\n",
       "\n",
       "    .dataframe thead th {\n",
       "        text-align: right;\n",
       "    }\n",
       "</style>\n",
       "<table border=\"1\" class=\"dataframe\">\n",
       "  <thead>\n",
       "    <tr style=\"text-align: right;\">\n",
       "      <th>start_hour</th>\n",
       "      <th>00</th>\n",
       "      <th>01</th>\n",
       "      <th>02</th>\n",
       "      <th>03</th>\n",
       "      <th>04</th>\n",
       "      <th>05</th>\n",
       "      <th>06</th>\n",
       "      <th>07</th>\n",
       "      <th>08</th>\n",
       "      <th>09</th>\n",
       "      <th>...</th>\n",
       "      <th>14</th>\n",
       "      <th>15</th>\n",
       "      <th>16</th>\n",
       "      <th>17</th>\n",
       "      <th>18</th>\n",
       "      <th>19</th>\n",
       "      <th>20</th>\n",
       "      <th>21</th>\n",
       "      <th>22</th>\n",
       "      <th>23</th>\n",
       "    </tr>\n",
       "    <tr>\n",
       "      <th>start_day</th>\n",
       "      <th></th>\n",
       "      <th></th>\n",
       "      <th></th>\n",
       "      <th></th>\n",
       "      <th></th>\n",
       "      <th></th>\n",
       "      <th></th>\n",
       "      <th></th>\n",
       "      <th></th>\n",
       "      <th></th>\n",
       "      <th></th>\n",
       "      <th></th>\n",
       "      <th></th>\n",
       "      <th></th>\n",
       "      <th></th>\n",
       "      <th></th>\n",
       "      <th></th>\n",
       "      <th></th>\n",
       "      <th></th>\n",
       "      <th></th>\n",
       "      <th></th>\n",
       "    </tr>\n",
       "  </thead>\n",
       "  <tbody>\n",
       "    <tr>\n",
       "      <th>Monday</th>\n",
       "      <td>86</td>\n",
       "      <td>43</td>\n",
       "      <td>39</td>\n",
       "      <td>20</td>\n",
       "      <td>37</td>\n",
       "      <td>124</td>\n",
       "      <td>556</td>\n",
       "      <td>1545</td>\n",
       "      <td>2966</td>\n",
       "      <td>2062</td>\n",
       "      <td>...</td>\n",
       "      <td>784</td>\n",
       "      <td>1047</td>\n",
       "      <td>1782</td>\n",
       "      <td>2997</td>\n",
       "      <td>2193</td>\n",
       "      <td>1331</td>\n",
       "      <td>861</td>\n",
       "      <td>561</td>\n",
       "      <td>346</td>\n",
       "      <td>172</td>\n",
       "    </tr>\n",
       "    <tr>\n",
       "      <th>Tuesday</th>\n",
       "      <td>77</td>\n",
       "      <td>51</td>\n",
       "      <td>31</td>\n",
       "      <td>17</td>\n",
       "      <td>30</td>\n",
       "      <td>169</td>\n",
       "      <td>656</td>\n",
       "      <td>2061</td>\n",
       "      <td>3929</td>\n",
       "      <td>3043</td>\n",
       "      <td>...</td>\n",
       "      <td>968</td>\n",
       "      <td>1072</td>\n",
       "      <td>2018</td>\n",
       "      <td>3656</td>\n",
       "      <td>2919</td>\n",
       "      <td>1543</td>\n",
       "      <td>1045</td>\n",
       "      <td>622</td>\n",
       "      <td>325</td>\n",
       "      <td>164</td>\n",
       "    </tr>\n",
       "    <tr>\n",
       "      <th>Wednesday</th>\n",
       "      <td>75</td>\n",
       "      <td>43</td>\n",
       "      <td>29</td>\n",
       "      <td>14</td>\n",
       "      <td>25</td>\n",
       "      <td>152</td>\n",
       "      <td>530</td>\n",
       "      <td>1707</td>\n",
       "      <td>3332</td>\n",
       "      <td>2416</td>\n",
       "      <td>...</td>\n",
       "      <td>859</td>\n",
       "      <td>982</td>\n",
       "      <td>1960</td>\n",
       "      <td>3500</td>\n",
       "      <td>2836</td>\n",
       "      <td>1682</td>\n",
       "      <td>1069</td>\n",
       "      <td>815</td>\n",
       "      <td>473</td>\n",
       "      <td>214</td>\n",
       "    </tr>\n",
       "    <tr>\n",
       "      <th>Thursday</th>\n",
       "      <td>109</td>\n",
       "      <td>41</td>\n",
       "      <td>26</td>\n",
       "      <td>19</td>\n",
       "      <td>40</td>\n",
       "      <td>165</td>\n",
       "      <td>661</td>\n",
       "      <td>2121</td>\n",
       "      <td>4167</td>\n",
       "      <td>2569</td>\n",
       "      <td>...</td>\n",
       "      <td>1008</td>\n",
       "      <td>1241</td>\n",
       "      <td>2357</td>\n",
       "      <td>4065</td>\n",
       "      <td>3300</td>\n",
       "      <td>1800</td>\n",
       "      <td>1282</td>\n",
       "      <td>819</td>\n",
       "      <td>489</td>\n",
       "      <td>277</td>\n",
       "    </tr>\n",
       "    <tr>\n",
       "      <th>Friday</th>\n",
       "      <td>131</td>\n",
       "      <td>77</td>\n",
       "      <td>55</td>\n",
       "      <td>28</td>\n",
       "      <td>40</td>\n",
       "      <td>138</td>\n",
       "      <td>578</td>\n",
       "      <td>1822</td>\n",
       "      <td>3583</td>\n",
       "      <td>2726</td>\n",
       "      <td>...</td>\n",
       "      <td>786</td>\n",
       "      <td>1089</td>\n",
       "      <td>1862</td>\n",
       "      <td>2766</td>\n",
       "      <td>2071</td>\n",
       "      <td>1109</td>\n",
       "      <td>621</td>\n",
       "      <td>466</td>\n",
       "      <td>430</td>\n",
       "      <td>256</td>\n",
       "    </tr>\n",
       "    <tr>\n",
       "      <th>Saturday</th>\n",
       "      <td>187</td>\n",
       "      <td>145</td>\n",
       "      <td>66</td>\n",
       "      <td>22</td>\n",
       "      <td>19</td>\n",
       "      <td>25</td>\n",
       "      <td>88</td>\n",
       "      <td>188</td>\n",
       "      <td>442</td>\n",
       "      <td>699</td>\n",
       "      <td>...</td>\n",
       "      <td>1076</td>\n",
       "      <td>981</td>\n",
       "      <td>917</td>\n",
       "      <td>930</td>\n",
       "      <td>711</td>\n",
       "      <td>592</td>\n",
       "      <td>395</td>\n",
       "      <td>363</td>\n",
       "      <td>252</td>\n",
       "      <td>201</td>\n",
       "    </tr>\n",
       "    <tr>\n",
       "      <th>Sunday</th>\n",
       "      <td>137</td>\n",
       "      <td>81</td>\n",
       "      <td>72</td>\n",
       "      <td>33</td>\n",
       "      <td>19</td>\n",
       "      <td>26</td>\n",
       "      <td>50</td>\n",
       "      <td>137</td>\n",
       "      <td>289</td>\n",
       "      <td>519</td>\n",
       "      <td>...</td>\n",
       "      <td>1104</td>\n",
       "      <td>1067</td>\n",
       "      <td>1125</td>\n",
       "      <td>980</td>\n",
       "      <td>825</td>\n",
       "      <td>691</td>\n",
       "      <td>492</td>\n",
       "      <td>415</td>\n",
       "      <td>252</td>\n",
       "      <td>133</td>\n",
       "    </tr>\n",
       "  </tbody>\n",
       "</table>\n",
       "<p>7 rows × 24 columns</p>\n",
       "</div>"
      ],
      "text/plain": [
       "start_hour   00   01  02  03  04   05   06    07    08    09 ...     14    15  \\\n",
       "start_day                                                    ...                \n",
       "Monday       86   43  39  20  37  124  556  1545  2966  2062 ...    784  1047   \n",
       "Tuesday      77   51  31  17  30  169  656  2061  3929  3043 ...    968  1072   \n",
       "Wednesday    75   43  29  14  25  152  530  1707  3332  2416 ...    859   982   \n",
       "Thursday    109   41  26  19  40  165  661  2121  4167  2569 ...   1008  1241   \n",
       "Friday      131   77  55  28  40  138  578  1822  3583  2726 ...    786  1089   \n",
       "Saturday    187  145  66  22  19   25   88   188   442   699 ...   1076   981   \n",
       "Sunday      137   81  72  33  19   26   50   137   289   519 ...   1104  1067   \n",
       "\n",
       "start_hour    16    17    18    19    20   21   22   23  \n",
       "start_day                                                \n",
       "Monday      1782  2997  2193  1331   861  561  346  172  \n",
       "Tuesday     2018  3656  2919  1543  1045  622  325  164  \n",
       "Wednesday   1960  3500  2836  1682  1069  815  473  214  \n",
       "Thursday    2357  4065  3300  1800  1282  819  489  277  \n",
       "Friday      1862  2766  2071  1109   621  466  430  256  \n",
       "Saturday     917   930   711   592   395  363  252  201  \n",
       "Sunday      1125   980   825   691   492  415  252  133  \n",
       "\n",
       "[7 rows x 24 columns]"
      ]
     },
     "execution_count": 48,
     "metadata": {},
     "output_type": "execute_result"
    }
   ],
   "source": [
    "cust_count = heatmap_transform(bike_df, 'Customer')\n",
    "subs_count = heatmap_transform(bike_df, 'Subscriber')\n",
    "\n",
    "# sample of transformed pivot table\n",
    "subs_count"
   ]
  },
  {
   "cell_type": "code",
   "execution_count": 49,
   "metadata": {},
   "outputs": [
    {
     "data": {
      "text/plain": [
       "Text(60,0.5,'Hour of day')"
      ]
     },
     "execution_count": 49,
     "metadata": {},
     "output_type": "execute_result"
    },
    {
     "data": {
      "image/png": "[encoded data removed]",
      "text/plain": [
       "<matplotlib.figure.Figure at 0x7f93a933ceb8>"
      ]
     },
     "metadata": {
      "needs_background": "light"
     },
     "output_type": "display_data"
    }
   ],
   "source": [
    "# defining subplot 1\n",
    "plt.subplot(2,1,1)\n",
    "sns.heatmap(cust_count, cmap='rocket_r')\n",
    "# set x_label of plot 1\n",
    "plt.xlabel('Day of week', fontsize=10)\n",
    "# set y_label of plot 1\n",
    "plt.ylabel('Hour of day', fontsize=10)\n",
    "\n",
    "# set title of the barplot\n",
    "plt.title('Hourly trips by day between user types', fontsize='17')\n",
    "\n",
    "# defining subplot 2\n",
    "plt.subplot(2,1,2)\n",
    "sns.heatmap(subs_count, cmap='rocket_r')\n",
    "# set x_label of plot 2\n",
    "plt.xlabel('Day of week', fontsize=10)\n",
    "# set y_label of plot 2\n",
    "plt.ylabel('Hour of day', fontsize=10)"
   ]
  },
  {
   "cell_type": "markdown",
   "metadata": {},
   "source": [
    "**Talk about some of the relationships you observed in this part of the investigation. Were there features that strengthened each other in terms of looking at your feature(s) of interest?**"
   ]
  },
  {
   "cell_type": "markdown",
   "metadata": {},
   "source": [
    "In order to strengthen some of the patterns found in the previous bivariate analysis as well as in the univariate analysis, the relationship between the various variables plotted is seen collectively and information is displayed simultaneously. In line with their high levels of concentration during Monday through Friday rush hours, subscribers' efficient/short periods of consumption indicate that the use is primarily for commuting to work. Customers clearly use the bike sharing system very differently from subscribers, frequently on weekends and in the afternoons, probably for leisure or city tours, as seen by the more flexible and lax pattern of their usage."
   ]
  },
  {
   "cell_type": "markdown",
   "metadata": {},
   "source": [
    "**Were there any interesting or surprising interactions between features?**"
   ]
  },
  {
   "cell_type": "markdown",
   "metadata": {},
   "source": [
    "There are no major surprises when all the interactions between the features are taken into account because they all complement one another and make sense. There may not be a significant difference in usage patterns between men and women throughout the investigation because there are disproportionately more female riders and records than male ones. If we were able to obtain a more balanced dataset between the two genders, it would be interesting to observe the differences in usage between men and women. This would require more female data."
   ]
  },
  {
   "cell_type": "markdown",
   "metadata": {},
   "source": [
    "## Conclusions\n",
    ">On the bike sharing dataset, we ran three levels of analysis and visualization—Univariate, Bivariate, and Multivariate. In order to better visualize the dataset and produce insights, we also eliminated extreme outliers during the exercise."
   ]
  }
 ],
 "metadata": {
  "kernelspec": {
   "display_name": "Python 3",
   "language": "python",
   "name": "python3"
  },
  "language_info": {
   "codemirror_mode": {
    "name": "ipython",
    "version": 3
   },
   "file_extension": ".py",
   "mimetype": "text/x-python",
   "name": "python",
   "nbconvert_exporter": "python",
   "pygments_lexer": "ipython3",
   "version": "3.6.3"
  }
 },
 "nbformat": 4,
 "nbformat_minor": 2
}
